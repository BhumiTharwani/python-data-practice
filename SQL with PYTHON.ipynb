{
 "cells": [
  {
   "cell_type": "code",
   "execution_count": 1,
   "id": "5adcb041",
   "metadata": {},
   "outputs": [
    {
     "name": "stdout",
     "output_type": "stream",
     "text": [
      "Collecting mysql-connector-python\n",
      "  Obtaining dependency information for mysql-connector-python from https://files.pythonhosted.org/packages/a7/84/b63f11124f808b6f1e3389072bc36cc907929d7574e85f94bf8f18117fe4/mysql_connector_python-8.2.0-cp311-cp311-win_amd64.whl.metadata\n",
      "  Downloading mysql_connector_python-8.2.0-cp311-cp311-win_amd64.whl.metadata (2.1 kB)\n",
      "Collecting protobuf<=4.21.12,>=4.21.1 (from mysql-connector-python)\n",
      "  Downloading protobuf-4.21.12-cp310-abi3-win_amd64.whl (527 kB)\n",
      "     ---------------------------------------- 0.0/527.0 kB ? eta -:--:--\n",
      "     ----- --------------------------------- 71.7/527.0 kB 2.0 MB/s eta 0:00:01\n",
      "     ---------- --------------------------- 143.4/527.0 kB 2.1 MB/s eta 0:00:01\n",
      "     ------------ ------------------------- 174.1/527.0 kB 1.7 MB/s eta 0:00:01\n",
      "     -------------------- ----------------- 286.7/527.0 kB 2.0 MB/s eta 0:00:01\n",
      "     ------------------------- ------------ 358.4/527.0 kB 1.6 MB/s eta 0:00:01\n",
      "     -------------------------------- ----- 450.6/527.0 kB 1.8 MB/s eta 0:00:01\n",
      "     -------------------------------- ----- 450.6/527.0 kB 1.8 MB/s eta 0:00:01\n",
      "     -------------------------------------- 527.0/527.0 kB 1.5 MB/s eta 0:00:00\n",
      "Downloading mysql_connector_python-8.2.0-cp311-cp311-win_amd64.whl (14.2 MB)\n",
      "   ---------------------------------------- 0.0/14.2 MB ? eta -:--:--\n",
      "   ---------------------------------------- 0.2/14.2 MB 10.2 MB/s eta 0:00:02\n",
      "    --------------------------------------- 0.2/14.2 MB 2.1 MB/s eta 0:00:07\n",
      "   - -------------------------------------- 0.4/14.2 MB 3.2 MB/s eta 0:00:05\n",
      "   - -------------------------------------- 0.6/14.2 MB 3.0 MB/s eta 0:00:05\n",
      "   - -------------------------------------- 0.6/14.2 MB 2.7 MB/s eta 0:00:06\n",
      "   -- ------------------------------------- 0.8/14.2 MB 2.7 MB/s eta 0:00:06\n",
      "   -- ------------------------------------- 0.9/14.2 MB 2.6 MB/s eta 0:00:06\n",
      "   -- ------------------------------------- 1.0/14.2 MB 2.8 MB/s eta 0:00:05\n",
      "   --- ------------------------------------ 1.1/14.2 MB 2.6 MB/s eta 0:00:06\n",
      "   --- ------------------------------------ 1.4/14.2 MB 3.2 MB/s eta 0:00:05\n",
      "   ---- ----------------------------------- 1.6/14.2 MB 3.0 MB/s eta 0:00:05\n",
      "   ---- ----------------------------------- 1.6/14.2 MB 3.1 MB/s eta 0:00:05\n",
      "   ----- ---------------------------------- 1.8/14.2 MB 3.0 MB/s eta 0:00:05\n",
      "   ----- ---------------------------------- 1.8/14.2 MB 3.0 MB/s eta 0:00:05\n",
      "   ----- ---------------------------------- 2.0/14.2 MB 2.9 MB/s eta 0:00:05\n",
      "   ------ --------------------------------- 2.2/14.2 MB 3.1 MB/s eta 0:00:04\n",
      "   ------ --------------------------------- 2.3/14.2 MB 3.0 MB/s eta 0:00:04\n",
      "   ------- -------------------------------- 2.5/14.2 MB 2.9 MB/s eta 0:00:04\n",
      "   ------- -------------------------------- 2.6/14.2 MB 3.0 MB/s eta 0:00:04\n",
      "   ------- -------------------------------- 2.8/14.2 MB 3.0 MB/s eta 0:00:04\n",
      "   -------- ------------------------------- 3.0/14.2 MB 3.1 MB/s eta 0:00:04\n",
      "   --------- ------------------------------ 3.2/14.2 MB 3.2 MB/s eta 0:00:04\n",
      "   --------- ------------------------------ 3.2/14.2 MB 3.2 MB/s eta 0:00:04\n",
      "   --------- ------------------------------ 3.5/14.2 MB 3.1 MB/s eta 0:00:04\n",
      "   ---------- ----------------------------- 3.7/14.2 MB 3.2 MB/s eta 0:00:04\n",
      "   ---------- ----------------------------- 3.9/14.2 MB 3.2 MB/s eta 0:00:04\n",
      "   ----------- ---------------------------- 4.1/14.2 MB 3.3 MB/s eta 0:00:04\n",
      "   ----------- ---------------------------- 4.2/14.2 MB 3.3 MB/s eta 0:00:04\n",
      "   ------------ --------------------------- 4.5/14.2 MB 3.3 MB/s eta 0:00:03\n",
      "   ------------ --------------------------- 4.5/14.2 MB 3.3 MB/s eta 0:00:03\n",
      "   ------------- -------------------------- 4.7/14.2 MB 3.3 MB/s eta 0:00:03\n",
      "   ------------- -------------------------- 4.7/14.2 MB 3.3 MB/s eta 0:00:03\n",
      "   ------------- -------------------------- 4.9/14.2 MB 3.2 MB/s eta 0:00:03\n",
      "   -------------- ------------------------- 5.0/14.2 MB 3.2 MB/s eta 0:00:03\n",
      "   -------------- ------------------------- 5.0/14.2 MB 3.2 MB/s eta 0:00:03\n",
      "   --------------- ------------------------ 5.6/14.2 MB 3.4 MB/s eta 0:00:03\n",
      "   ---------------- ----------------------- 5.8/14.2 MB 3.4 MB/s eta 0:00:03\n",
      "   ---------------- ----------------------- 5.9/14.2 MB 3.4 MB/s eta 0:00:03\n",
      "   ----------------- ---------------------- 6.2/14.2 MB 3.4 MB/s eta 0:00:03\n",
      "   ------------------ --------------------- 6.4/14.2 MB 3.5 MB/s eta 0:00:03\n",
      "   ------------------ --------------------- 6.6/14.2 MB 3.5 MB/s eta 0:00:03\n",
      "   ------------------ --------------------- 6.6/14.2 MB 3.4 MB/s eta 0:00:03\n",
      "   ------------------- -------------------- 7.0/14.2 MB 3.5 MB/s eta 0:00:03\n",
      "   ------------------- -------------------- 7.0/14.2 MB 3.5 MB/s eta 0:00:03\n",
      "   ------------------- -------------------- 7.0/14.2 MB 3.5 MB/s eta 0:00:03\n",
      "   --------------------- ------------------ 7.5/14.2 MB 3.5 MB/s eta 0:00:02\n",
      "   --------------------- ------------------ 7.5/14.2 MB 3.5 MB/s eta 0:00:02\n",
      "   ---------------------- ----------------- 7.9/14.2 MB 3.5 MB/s eta 0:00:02\n",
      "   ---------------------- ----------------- 8.1/14.2 MB 3.5 MB/s eta 0:00:02\n",
      "   ----------------------- ---------------- 8.2/14.2 MB 3.5 MB/s eta 0:00:02\n",
      "   ----------------------- ---------------- 8.5/14.2 MB 3.6 MB/s eta 0:00:02\n",
      "   ------------------------ --------------- 8.5/14.2 MB 3.6 MB/s eta 0:00:02\n",
      "   ------------------------ --------------- 8.6/14.2 MB 3.5 MB/s eta 0:00:02\n",
      "   ------------------------ --------------- 8.8/14.2 MB 3.6 MB/s eta 0:00:02\n",
      "   ------------------------ --------------- 8.8/14.2 MB 3.6 MB/s eta 0:00:02\n",
      "   ------------------------ --------------- 8.8/14.2 MB 3.6 MB/s eta 0:00:02\n",
      "   ------------------------- -------------- 8.9/14.2 MB 3.4 MB/s eta 0:00:02\n",
      "   -------------------------- ------------- 9.4/14.2 MB 3.5 MB/s eta 0:00:02\n",
      "   -------------------------- ------------- 9.5/14.2 MB 3.5 MB/s eta 0:00:02\n",
      "   --------------------------- ------------ 9.9/14.2 MB 3.5 MB/s eta 0:00:02\n",
      "   ---------------------------- ----------- 10.0/14.2 MB 3.5 MB/s eta 0:00:02\n",
      "   ---------------------------- ----------- 10.2/14.2 MB 3.5 MB/s eta 0:00:02\n",
      "   ----------------------------- ---------- 10.4/14.2 MB 3.5 MB/s eta 0:00:02\n",
      "   ----------------------------- ---------- 10.5/14.2 MB 3.6 MB/s eta 0:00:02\n",
      "   ------------------------------ --------- 10.9/14.2 MB 3.7 MB/s eta 0:00:01\n",
      "   ------------------------------- -------- 11.3/14.2 MB 3.8 MB/s eta 0:00:01\n",
      "   ------------------------------- -------- 11.4/14.2 MB 3.8 MB/s eta 0:00:01\n",
      "   -------------------------------- ------- 11.6/14.2 MB 3.8 MB/s eta 0:00:01\n",
      "   -------------------------------- ------- 11.7/14.2 MB 3.8 MB/s eta 0:00:01\n",
      "   --------------------------------- ------ 12.0/14.2 MB 3.9 MB/s eta 0:00:01\n",
      "   ---------------------------------- ----- 12.3/14.2 MB 3.9 MB/s eta 0:00:01\n",
      "   ---------------------------------- ----- 12.3/14.2 MB 3.9 MB/s eta 0:00:01\n",
      "   ---------------------------------- ----- 12.3/14.2 MB 3.9 MB/s eta 0:00:01\n",
      "   ------------------------------------ --- 12.8/14.2 MB 4.0 MB/s eta 0:00:01\n",
      "   ------------------------------------- -- 13.3/14.2 MB 4.1 MB/s eta 0:00:01\n",
      "   ------------------------------------- -- 13.3/14.2 MB 4.1 MB/s eta 0:00:01\n",
      "   ------------------------------------- -- 13.5/14.2 MB 4.1 MB/s eta 0:00:01\n",
      "   ------------------------------------- -- 13.5/14.2 MB 4.1 MB/s eta 0:00:01\n",
      "   -------------------------------------- - 13.6/14.2 MB 4.0 MB/s eta 0:00:01\n",
      "   -------------------------------------- - 13.6/14.2 MB 4.0 MB/s eta 0:00:01\n",
      "   -------------------------------------- - 13.6/14.2 MB 4.0 MB/s eta 0:00:01\n",
      "   ---------------------------------------  14.2/14.2 MB 3.9 MB/s eta 0:00:01\n",
      "   ---------------------------------------  14.2/14.2 MB 3.9 MB/s eta 0:00:01\n",
      "   ---------------------------------------  14.2/14.2 MB 3.9 MB/s eta 0:00:01\n",
      "   ---------------------------------------- 14.2/14.2 MB 3.8 MB/s eta 0:00:00\n",
      "Installing collected packages: protobuf, mysql-connector-python\n",
      "Successfully installed mysql-connector-python-8.2.0 protobuf-4.21.12\n",
      "Note: you may need to restart the kernel to use updated packages.\n"
     ]
    }
   ],
   "source": [
    "pip install mysql-connector-python"
   ]
  },
  {
   "cell_type": "code",
   "execution_count": 12,
   "id": "6f2cb568",
   "metadata": {},
   "outputs": [],
   "source": [
    "import numpy as np"
   ]
  },
  {
   "cell_type": "code",
   "execution_count": 2,
   "id": "ce75623d",
   "metadata": {},
   "outputs": [],
   "source": [
    "import mysql.connector"
   ]
  },
  {
   "cell_type": "code",
   "execution_count": 19,
   "id": "b7beca2b",
   "metadata": {},
   "outputs": [
    {
     "name": "stdout",
     "output_type": "stream",
     "text": [
      "[(1, 1, 1, 2, datetime.datetime(2022, 3, 8, 14, 25)), (2, 2, 1, 1, datetime.datetime(2022, 3, 7, 9, 32)), (3, 3, 3, 4, datetime.datetime(2022, 3, 6, 18, 5)), (4, 4, 5, 3, datetime.datetime(2022, 3, 5, 10, 12)), (5, 5, 2, 2, datetime.datetime(2022, 3, 4, 15, 22)), (6, 1, 3, 1, datetime.datetime(2022, 3, 3, 12, 48)), (7, 2, 4, 2, datetime.datetime(2022, 3, 2, 17, 9)), (8, 3, 1, 3, datetime.datetime(2022, 3, 1, 11, 35)), (9, 4, 2, 1, datetime.datetime(2022, 2, 28, 16, 2)), (10, 5, 5, 2, datetime.datetime(2022, 2, 27, 13, 24)), (11, 1, 2, 3, datetime.datetime(2022, 2, 26, 10, 49)), (12, 2, 3, 2, datetime.datetime(2022, 2, 25, 14, 56)), (13, 3, 4, 1, datetime.datetime(2022, 2, 24, 9, 17)), (14, 4, 1, 2, datetime.datetime(2022, 2, 23, 12, 40)), (15, 5, 3, 3, datetime.datetime(2022, 2, 22, 16, 58))]\n"
     ]
    }
   ],
   "source": [
    "import mysql.connector\n",
    "\n",
    "mydb = mysql.connector.connect(\n",
    "  host=\"localhost\",\n",
    "  user=\"root\",\n",
    "  password=\"root\",\n",
    "  database=\"bhumi\"\n",
    ")\n",
    "\n",
    "\n",
    "mycursor = mydb.cursor()\n",
    "\n",
    "mycursor.execute(\"select * from orders\")\n",
    "\n",
    "result = mycursor.fetchall()\n",
    " \n",
    "print(result)\n"
   ]
  },
  {
   "cell_type": "code",
   "execution_count": 23,
   "id": "3edba391",
   "metadata": {},
   "outputs": [
    {
     "name": "stdout",
     "output_type": "stream",
     "text": [
      "(1, 1, 1, 2, datetime.datetime(2022, 3, 8, 14, 25))\n",
      "(2, 2, 1, 1, datetime.datetime(2022, 3, 7, 9, 32))\n",
      "(3, 3, 3, 4, datetime.datetime(2022, 3, 6, 18, 5))\n",
      "(4, 4, 5, 3, datetime.datetime(2022, 3, 5, 10, 12))\n",
      "(5, 5, 2, 2, datetime.datetime(2022, 3, 4, 15, 22))\n",
      "(6, 1, 3, 1, datetime.datetime(2022, 3, 3, 12, 48))\n",
      "(7, 2, 4, 2, datetime.datetime(2022, 3, 2, 17, 9))\n",
      "(8, 3, 1, 3, datetime.datetime(2022, 3, 1, 11, 35))\n",
      "(9, 4, 2, 1, datetime.datetime(2022, 2, 28, 16, 2))\n",
      "(10, 5, 5, 2, datetime.datetime(2022, 2, 27, 13, 24))\n",
      "(11, 1, 2, 3, datetime.datetime(2022, 2, 26, 10, 49))\n",
      "(12, 2, 3, 2, datetime.datetime(2022, 2, 25, 14, 56))\n",
      "(13, 3, 4, 1, datetime.datetime(2022, 2, 24, 9, 17))\n",
      "(14, 4, 1, 2, datetime.datetime(2022, 2, 23, 12, 40))\n",
      "(15, 5, 3, 3, datetime.datetime(2022, 2, 22, 16, 58))\n"
     ]
    }
   ],
   "source": [
    "for x in result:\n",
    "  print(x)"
   ]
  },
  {
   "cell_type": "code",
   "execution_count": 24,
   "id": "48ac1483",
   "metadata": {},
   "outputs": [],
   "source": [
    "import pandas as pd"
   ]
  },
  {
   "cell_type": "code",
   "execution_count": 25,
   "id": "3c78386d",
   "metadata": {},
   "outputs": [],
   "source": [
    "from datetime import datetime\n"
   ]
  },
  {
   "cell_type": "code",
   "execution_count": 30,
   "id": "7a82f29c",
   "metadata": {},
   "outputs": [
    {
     "name": "stdout",
     "output_type": "stream",
     "text": [
      "    id  cutomer_id  pruduct_id  quanity          order_date\n",
      "0    1           1           1        2 2022-03-08 14:25:00\n",
      "1    2           2           1        1 2022-03-07 09:32:00\n",
      "2    3           3           3        4 2022-03-06 18:05:00\n",
      "3    4           4           5        3 2022-03-05 10:12:00\n",
      "4    5           5           2        2 2022-03-04 15:22:00\n",
      "5    6           1           3        1 2022-03-03 12:48:00\n",
      "6    7           2           4        2 2022-03-02 17:09:00\n",
      "7    8           3           1        3 2022-03-01 11:35:00\n",
      "8    9           4           2        1 2022-02-28 16:02:00\n",
      "9   10           5           5        2 2022-02-27 13:24:00\n",
      "10  11           1           2        3 2022-02-26 10:49:00\n",
      "11  12           2           3        2 2022-02-25 14:56:00\n",
      "12  13           3           4        1 2022-02-24 09:17:00\n",
      "13  14           4           1        2 2022-02-23 12:40:00\n",
      "14  15           5           3        3 2022-02-22 16:58:00\n"
     ]
    }
   ],
   "source": [
    "Data = [\n",
    "    (1, 1, 1, 2, datetime(2022, 3, 8, 14, 25)),\n",
    "    (2, 2, 1, 1, datetime(2022, 3, 7, 9, 32)),\n",
    "    (3, 3, 3, 4, datetime(2022, 3, 6, 18, 5)),\n",
    "    (4, 4, 5, 3, datetime(2022, 3, 5, 10, 12)),\n",
    "    (5, 5, 2, 2, datetime(2022, 3, 4, 15, 22)),\n",
    "    (6, 1, 3, 1, datetime(2022, 3, 3, 12, 48)),\n",
    "    (7, 2, 4, 2, datetime(2022, 3, 2, 17, 9)),\n",
    "    (8, 3, 1, 3, datetime(2022, 3, 1, 11, 35)),\n",
    "    (9, 4, 2, 1, datetime(2022, 2, 28, 16, 2)),\n",
    "    (10, 5, 5, 2, datetime(2022, 2, 27, 13, 24)),\n",
    "    (11, 1, 2, 3, datetime(2022, 2, 26, 10, 49)),\n",
    "    (12, 2, 3, 2, datetime(2022, 2, 25, 14, 56)),\n",
    "    (13, 3, 4, 1, datetime(2022, 2, 24, 9, 17)),\n",
    "    (14, 4, 1, 2, datetime(2022, 2, 23, 12, 40)),\n",
    "    (15, 5, 3, 3, datetime(2022, 2, 22, 16, 58))\n",
    "    \n",
    "]\n",
    "columns = [\"id\",\"cutomer_id\",\"pruduct_id\",\"quanity\",\"order_date\"]\n",
    "\n",
    "df = pd.DataFrame(Data,columns=columns)\n",
    "\n",
    "print(df)"
   ]
  },
  {
   "cell_type": "code",
   "execution_count": 34,
   "id": "afc46760",
   "metadata": {},
   "outputs": [],
   "source": [
    "arr=np.array(Data)"
   ]
  },
  {
   "cell_type": "code",
   "execution_count": 35,
   "id": "9bafd29e",
   "metadata": {},
   "outputs": [
    {
     "data": {
      "text/plain": [
       "array([[datetime.datetime(2022, 3, 8, 14, 25)],\n",
       "       [datetime.datetime(2022, 3, 7, 9, 32)],\n",
       "       [datetime.datetime(2022, 3, 6, 18, 5)],\n",
       "       [datetime.datetime(2022, 3, 5, 10, 12)],\n",
       "       [datetime.datetime(2022, 3, 4, 15, 22)]], dtype=object)"
      ]
     },
     "execution_count": 35,
     "metadata": {},
     "output_type": "execute_result"
    }
   ],
   "source": [
    "arr[:5,4:]"
   ]
  },
  {
   "cell_type": "code",
   "execution_count": 37,
   "id": "9f11baa9",
   "metadata": {},
   "outputs": [
    {
     "data": {
      "text/plain": [
       "array([[1, 1, 1, 2, datetime.datetime(2022, 3, 8, 14, 25)],\n",
       "       [3, 3, 3, 4, datetime.datetime(2022, 3, 6, 18, 5)],\n",
       "       [5, 5, 2, 2, datetime.datetime(2022, 3, 4, 15, 22)],\n",
       "       [7, 2, 4, 2, datetime.datetime(2022, 3, 2, 17, 9)],\n",
       "       [9, 4, 2, 1, datetime.datetime(2022, 2, 28, 16, 2)],\n",
       "       [11, 1, 2, 3, datetime.datetime(2022, 2, 26, 10, 49)],\n",
       "       [13, 3, 4, 1, datetime.datetime(2022, 2, 24, 9, 17)],\n",
       "       [15, 5, 3, 3, datetime.datetime(2022, 2, 22, 16, 58)]],\n",
       "      dtype=object)"
      ]
     },
     "execution_count": 37,
     "metadata": {},
     "output_type": "execute_result"
    }
   ],
   "source": [
    "arr[::2]"
   ]
  },
  {
   "cell_type": "code",
   "execution_count": 38,
   "id": "f6d702ba",
   "metadata": {},
   "outputs": [
    {
     "data": {
      "text/plain": [
       "array([[15, 5, 3, 3, datetime.datetime(2022, 2, 22, 16, 58)],\n",
       "       [14, 4, 1, 2, datetime.datetime(2022, 2, 23, 12, 40)],\n",
       "       [13, 3, 4, 1, datetime.datetime(2022, 2, 24, 9, 17)],\n",
       "       [12, 2, 3, 2, datetime.datetime(2022, 2, 25, 14, 56)],\n",
       "       [11, 1, 2, 3, datetime.datetime(2022, 2, 26, 10, 49)],\n",
       "       [10, 5, 5, 2, datetime.datetime(2022, 2, 27, 13, 24)],\n",
       "       [9, 4, 2, 1, datetime.datetime(2022, 2, 28, 16, 2)],\n",
       "       [8, 3, 1, 3, datetime.datetime(2022, 3, 1, 11, 35)],\n",
       "       [7, 2, 4, 2, datetime.datetime(2022, 3, 2, 17, 9)],\n",
       "       [6, 1, 3, 1, datetime.datetime(2022, 3, 3, 12, 48)],\n",
       "       [5, 5, 2, 2, datetime.datetime(2022, 3, 4, 15, 22)],\n",
       "       [4, 4, 5, 3, datetime.datetime(2022, 3, 5, 10, 12)],\n",
       "       [3, 3, 3, 4, datetime.datetime(2022, 3, 6, 18, 5)],\n",
       "       [2, 2, 1, 1, datetime.datetime(2022, 3, 7, 9, 32)],\n",
       "       [1, 1, 1, 2, datetime.datetime(2022, 3, 8, 14, 25)]], dtype=object)"
      ]
     },
     "execution_count": 38,
     "metadata": {},
     "output_type": "execute_result"
    }
   ],
   "source": [
    "arr[::-1]"
   ]
  },
  {
   "cell_type": "code",
   "execution_count": 42,
   "id": "0f707770",
   "metadata": {},
   "outputs": [
    {
     "data": {
      "text/plain": [
       "array([[2, 2, 1, 1, datetime.datetime(2022, 3, 7, 9, 32)],\n",
       "       [3, 3, 3, 4, datetime.datetime(2022, 3, 6, 18, 5)],\n",
       "       [4, 4, 5, 3, datetime.datetime(2022, 3, 5, 10, 12)],\n",
       "       [5, 5, 2, 2, datetime.datetime(2022, 3, 4, 15, 22)],\n",
       "       [6, 1, 3, 1, datetime.datetime(2022, 3, 3, 12, 48)],\n",
       "       [7, 2, 4, 2, datetime.datetime(2022, 3, 2, 17, 9)],\n",
       "       [8, 3, 1, 3, datetime.datetime(2022, 3, 1, 11, 35)],\n",
       "       [9, 4, 2, 1, datetime.datetime(2022, 2, 28, 16, 2)],\n",
       "       [10, 5, 5, 2, datetime.datetime(2022, 2, 27, 13, 24)],\n",
       "       [11, 1, 2, 3, datetime.datetime(2022, 2, 26, 10, 49)]],\n",
       "      dtype=object)"
      ]
     },
     "execution_count": 42,
     "metadata": {},
     "output_type": "execute_result"
    }
   ],
   "source": [
    "arr[:11,:]"
   ]
  },
  {
   "cell_type": "code",
   "execution_count": null,
   "id": "386ff5e5",
   "metadata": {},
   "outputs": [],
   "source": []
  }
 ],
 "metadata": {
  "kernelspec": {
   "display_name": "Python 3 (ipykernel)",
   "language": "python",
   "name": "python3"
  },
  "language_info": {
   "codemirror_mode": {
    "name": "ipython",
    "version": 3
   },
   "file_extension": ".py",
   "mimetype": "text/x-python",
   "name": "python",
   "nbconvert_exporter": "python",
   "pygments_lexer": "ipython3",
   "version": "3.11.4"
  }
 },
 "nbformat": 4,
 "nbformat_minor": 5
}
